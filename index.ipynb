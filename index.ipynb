{
 "cells": [
  {
   "cell_type": "markdown",
   "metadata": {},
   "source": [
    "# Join Statements"
   ]
  },
  {
   "cell_type": "markdown",
   "metadata": {},
   "source": [
    "## Introduction"
   ]
  },
  {
   "cell_type": "markdown",
   "metadata": {},
   "source": [
    "In this lab, you'll practice your knowledge on Join statements."
   ]
  },
  {
   "cell_type": "markdown",
   "metadata": {},
   "source": [
    "## Objectives"
   ]
  },
  {
   "cell_type": "markdown",
   "metadata": {},
   "source": [
    "You will be able to:\n",
    "- Write queries that make use of various types of Joins\n",
    "- Join tables using foreign keys"
   ]
  },
  {
   "cell_type": "markdown",
   "metadata": {},
   "source": [
    "## CRM Schema\n",
    "\n",
    "In almost all cases, rather then just working with a single table we will typically need data from multiple tables. \n",
    "Doing this requires the use of **joins ** using shared columns from the two tables. \n",
    "\n",
    "In this lab, we'll use the same Customer Relationship Management (CRM) database we used in our lecture before!\n",
    "<img src='Database-Schema.png' width=550>"
   ]
  },
  {
   "cell_type": "markdown",
   "metadata": {},
   "source": [
    "## Connecting to the Database\n",
    "Import the necessary packages and connect to the database **data.sqlite**."
   ]
  },
  {
   "cell_type": "code",
   "execution_count": 1,
   "metadata": {},
   "outputs": [],
   "source": [
    "#Your code here\n",
    "import sqlite3\n",
    "import pandas as pd"
   ]
  },
  {
   "cell_type": "code",
   "execution_count": 2,
   "metadata": {},
   "outputs": [],
   "source": [
    "conn = sqlite3.connect('data.sqlite', detect_types=sqlite3.PARSE_COLNAMES)\n",
    "c = conn.cursor()"
   ]
  },
  {
   "cell_type": "markdown",
   "metadata": {},
   "source": [
    "## Display the names of all the employees in Boston."
   ]
  },
  {
   "cell_type": "code",
   "execution_count": 3,
   "metadata": {},
   "outputs": [
    {
     "data": {
      "text/html": [
       "<div>\n",
       "<style scoped>\n",
       "    .dataframe tbody tr th:only-of-type {\n",
       "        vertical-align: middle;\n",
       "    }\n",
       "\n",
       "    .dataframe tbody tr th {\n",
       "        vertical-align: top;\n",
       "    }\n",
       "\n",
       "    .dataframe thead th {\n",
       "        text-align: right;\n",
       "    }\n",
       "</style>\n",
       "<table border=\"1\" class=\"dataframe\">\n",
       "  <thead>\n",
       "    <tr style=\"text-align: right;\">\n",
       "      <th></th>\n",
       "      <th>lastName</th>\n",
       "      <th>firstName</th>\n",
       "    </tr>\n",
       "  </thead>\n",
       "  <tbody>\n",
       "    <tr>\n",
       "      <th>6</th>\n",
       "      <td>Firrelli</td>\n",
       "      <td>Julie</td>\n",
       "    </tr>\n",
       "    <tr>\n",
       "      <th>7</th>\n",
       "      <td>Patterson</td>\n",
       "      <td>Steve</td>\n",
       "    </tr>\n",
       "  </tbody>\n",
       "</table>\n",
       "</div>"
      ],
      "text/plain": [
       "    lastName firstName\n",
       "6   Firrelli     Julie\n",
       "7  Patterson     Steve"
      ]
     },
     "execution_count": 3,
     "metadata": {},
     "output_type": "execute_result"
    }
   ],
   "source": [
    "#Your code here\n",
    "c.execute('''SELECT * FROM offices\n",
    "                      JOIN employees\n",
    "                      USING(officeCode);\n",
    "                      ''')\n",
    "df = pd.DataFrame(c.fetchall())\n",
    "df.columns = [i[0] for i in c.description]\n",
    "df.loc[df['city']=='Boston',['lastName','firstName']]"
   ]
  },
  {
   "cell_type": "markdown",
   "metadata": {},
   "source": [
    "## Do any offices have no employees?"
   ]
  },
  {
   "cell_type": "markdown",
   "metadata": {},
   "source": [
    "0 offices have no employees."
   ]
  },
  {
   "cell_type": "code",
   "execution_count": 4,
   "metadata": {},
   "outputs": [
    {
     "data": {
      "text/html": [
       "<div>\n",
       "<style scoped>\n",
       "    .dataframe tbody tr th:only-of-type {\n",
       "        vertical-align: middle;\n",
       "    }\n",
       "\n",
       "    .dataframe tbody tr th {\n",
       "        vertical-align: top;\n",
       "    }\n",
       "\n",
       "    .dataframe thead th {\n",
       "        text-align: right;\n",
       "    }\n",
       "</style>\n",
       "<table border=\"1\" class=\"dataframe\">\n",
       "  <thead>\n",
       "    <tr style=\"text-align: right;\">\n",
       "      <th></th>\n",
       "      <th>officeCode</th>\n",
       "      <th>city</th>\n",
       "      <th>phone</th>\n",
       "      <th>addressLine1</th>\n",
       "      <th>addressLine2</th>\n",
       "      <th>state</th>\n",
       "      <th>country</th>\n",
       "      <th>postalCode</th>\n",
       "      <th>territory</th>\n",
       "      <th>employeeNumber</th>\n",
       "      <th>lastName</th>\n",
       "      <th>firstName</th>\n",
       "      <th>extension</th>\n",
       "      <th>email</th>\n",
       "      <th>reportsTo</th>\n",
       "      <th>jobTitle</th>\n",
       "    </tr>\n",
       "  </thead>\n",
       "  <tbody>\n",
       "  </tbody>\n",
       "</table>\n",
       "</div>"
      ],
      "text/plain": [
       "Empty DataFrame\n",
       "Columns: [officeCode, city, phone, addressLine1, addressLine2, state, country, postalCode, territory, employeeNumber, lastName, firstName, extension, email, reportsTo, jobTitle]\n",
       "Index: []"
      ]
     },
     "execution_count": 4,
     "metadata": {},
     "output_type": "execute_result"
    }
   ],
   "source": [
    "#Your code here\n",
    "df.loc[df['employeeNumber']=='']"
   ]
  },
  {
   "cell_type": "markdown",
   "metadata": {},
   "source": [
    "## Write 3 Questions of your own and answer them"
   ]
  },
  {
   "cell_type": "markdown",
   "metadata": {},
   "source": [
    "Which employees report to no one?\n",
    "\n",
    "Who works at office code 3?\n",
    "\n",
    "Who works outside of the USA?"
   ]
  },
  {
   "cell_type": "code",
   "execution_count": 5,
   "metadata": {},
   "outputs": [
    {
     "data": {
      "text/html": [
       "<div>\n",
       "<style scoped>\n",
       "    .dataframe tbody tr th:only-of-type {\n",
       "        vertical-align: middle;\n",
       "    }\n",
       "\n",
       "    .dataframe tbody tr th {\n",
       "        vertical-align: top;\n",
       "    }\n",
       "\n",
       "    .dataframe thead th {\n",
       "        text-align: right;\n",
       "    }\n",
       "</style>\n",
       "<table border=\"1\" class=\"dataframe\">\n",
       "  <thead>\n",
       "    <tr style=\"text-align: right;\">\n",
       "      <th></th>\n",
       "      <th>lastName</th>\n",
       "      <th>firstName</th>\n",
       "    </tr>\n",
       "  </thead>\n",
       "  <tbody>\n",
       "    <tr>\n",
       "      <th>0</th>\n",
       "      <td>Murphy</td>\n",
       "      <td>Diane</td>\n",
       "    </tr>\n",
       "  </tbody>\n",
       "</table>\n",
       "</div>"
      ],
      "text/plain": [
       "  lastName firstName\n",
       "0   Murphy     Diane"
      ]
     },
     "execution_count": 5,
     "metadata": {},
     "output_type": "execute_result"
    }
   ],
   "source": [
    "# Your code here\n",
    "df.loc[df['reportsTo']=='',['lastName','firstName']]"
   ]
  },
  {
   "cell_type": "code",
   "execution_count": 6,
   "metadata": {},
   "outputs": [
    {
     "data": {
      "text/html": [
       "<div>\n",
       "<style scoped>\n",
       "    .dataframe tbody tr th:only-of-type {\n",
       "        vertical-align: middle;\n",
       "    }\n",
       "\n",
       "    .dataframe tbody tr th {\n",
       "        vertical-align: top;\n",
       "    }\n",
       "\n",
       "    .dataframe thead th {\n",
       "        text-align: right;\n",
       "    }\n",
       "</style>\n",
       "<table border=\"1\" class=\"dataframe\">\n",
       "  <thead>\n",
       "    <tr style=\"text-align: right;\">\n",
       "      <th></th>\n",
       "      <th>officeCode</th>\n",
       "      <th>city</th>\n",
       "      <th>phone</th>\n",
       "      <th>addressLine1</th>\n",
       "      <th>addressLine2</th>\n",
       "      <th>state</th>\n",
       "      <th>country</th>\n",
       "      <th>postalCode</th>\n",
       "      <th>territory</th>\n",
       "      <th>employeeNumber</th>\n",
       "      <th>lastName</th>\n",
       "      <th>firstName</th>\n",
       "      <th>extension</th>\n",
       "      <th>email</th>\n",
       "      <th>reportsTo</th>\n",
       "      <th>jobTitle</th>\n",
       "    </tr>\n",
       "  </thead>\n",
       "  <tbody>\n",
       "    <tr>\n",
       "      <th>8</th>\n",
       "      <td>3</td>\n",
       "      <td>NYC</td>\n",
       "      <td>+1 212 555 3000</td>\n",
       "      <td>523 East 53rd Street</td>\n",
       "      <td>apt. 5A</td>\n",
       "      <td>NY</td>\n",
       "      <td>USA</td>\n",
       "      <td>10022</td>\n",
       "      <td>NA</td>\n",
       "      <td>1286</td>\n",
       "      <td>Tseng</td>\n",
       "      <td>Foon Yue</td>\n",
       "      <td>x2248</td>\n",
       "      <td>ftseng@classicmodelcars.com</td>\n",
       "      <td>1143</td>\n",
       "      <td>Sales Rep</td>\n",
       "    </tr>\n",
       "    <tr>\n",
       "      <th>9</th>\n",
       "      <td>3</td>\n",
       "      <td>NYC</td>\n",
       "      <td>+1 212 555 3000</td>\n",
       "      <td>523 East 53rd Street</td>\n",
       "      <td>apt. 5A</td>\n",
       "      <td>NY</td>\n",
       "      <td>USA</td>\n",
       "      <td>10022</td>\n",
       "      <td>NA</td>\n",
       "      <td>1323</td>\n",
       "      <td>Vanauf</td>\n",
       "      <td>George</td>\n",
       "      <td>x4102</td>\n",
       "      <td>gvanauf@classicmodelcars.com</td>\n",
       "      <td>1143</td>\n",
       "      <td>Sales Rep</td>\n",
       "    </tr>\n",
       "  </tbody>\n",
       "</table>\n",
       "</div>"
      ],
      "text/plain": [
       "  officeCode city            phone          addressLine1 addressLine2 state  \\\n",
       "8          3  NYC  +1 212 555 3000  523 East 53rd Street      apt. 5A    NY   \n",
       "9          3  NYC  +1 212 555 3000  523 East 53rd Street      apt. 5A    NY   \n",
       "\n",
       "  country postalCode territory employeeNumber lastName firstName extension  \\\n",
       "8     USA      10022        NA           1286    Tseng  Foon Yue     x2248   \n",
       "9     USA      10022        NA           1323   Vanauf    George     x4102   \n",
       "\n",
       "                          email reportsTo   jobTitle  \n",
       "8   ftseng@classicmodelcars.com      1143  Sales Rep  \n",
       "9  gvanauf@classicmodelcars.com      1143  Sales Rep  "
      ]
     },
     "execution_count": 6,
     "metadata": {},
     "output_type": "execute_result"
    }
   ],
   "source": [
    "# Your code here\n",
    "df.loc[df['officeCode']=='3']"
   ]
  },
  {
   "cell_type": "code",
   "execution_count": 7,
   "metadata": {},
   "outputs": [
    {
     "data": {
      "text/html": [
       "<div>\n",
       "<style scoped>\n",
       "    .dataframe tbody tr th:only-of-type {\n",
       "        vertical-align: middle;\n",
       "    }\n",
       "\n",
       "    .dataframe tbody tr th {\n",
       "        vertical-align: top;\n",
       "    }\n",
       "\n",
       "    .dataframe thead th {\n",
       "        text-align: right;\n",
       "    }\n",
       "</style>\n",
       "<table border=\"1\" class=\"dataframe\">\n",
       "  <thead>\n",
       "    <tr style=\"text-align: right;\">\n",
       "      <th></th>\n",
       "      <th>lastName</th>\n",
       "      <th>firstName</th>\n",
       "      <th>country</th>\n",
       "    </tr>\n",
       "  </thead>\n",
       "  <tbody>\n",
       "    <tr>\n",
       "      <th>10</th>\n",
       "      <td>Bondur</td>\n",
       "      <td>Gerard</td>\n",
       "      <td>France</td>\n",
       "    </tr>\n",
       "    <tr>\n",
       "      <th>11</th>\n",
       "      <td>Bondur</td>\n",
       "      <td>Loui</td>\n",
       "      <td>France</td>\n",
       "    </tr>\n",
       "    <tr>\n",
       "      <th>12</th>\n",
       "      <td>Hernandez</td>\n",
       "      <td>Gerard</td>\n",
       "      <td>France</td>\n",
       "    </tr>\n",
       "    <tr>\n",
       "      <th>13</th>\n",
       "      <td>Castillo</td>\n",
       "      <td>Pamela</td>\n",
       "      <td>France</td>\n",
       "    </tr>\n",
       "    <tr>\n",
       "      <th>14</th>\n",
       "      <td>Gerard</td>\n",
       "      <td>Martin</td>\n",
       "      <td>France</td>\n",
       "    </tr>\n",
       "    <tr>\n",
       "      <th>15</th>\n",
       "      <td>Nishi</td>\n",
       "      <td>Mami</td>\n",
       "      <td>Japan</td>\n",
       "    </tr>\n",
       "    <tr>\n",
       "      <th>16</th>\n",
       "      <td>Kato</td>\n",
       "      <td>Yoshimi</td>\n",
       "      <td>Japan</td>\n",
       "    </tr>\n",
       "    <tr>\n",
       "      <th>17</th>\n",
       "      <td>Patterson</td>\n",
       "      <td>William</td>\n",
       "      <td>Australia</td>\n",
       "    </tr>\n",
       "    <tr>\n",
       "      <th>18</th>\n",
       "      <td>Fixter</td>\n",
       "      <td>Andy</td>\n",
       "      <td>Australia</td>\n",
       "    </tr>\n",
       "    <tr>\n",
       "      <th>19</th>\n",
       "      <td>Marsh</td>\n",
       "      <td>Peter</td>\n",
       "      <td>Australia</td>\n",
       "    </tr>\n",
       "    <tr>\n",
       "      <th>20</th>\n",
       "      <td>King</td>\n",
       "      <td>Tom</td>\n",
       "      <td>Australia</td>\n",
       "    </tr>\n",
       "    <tr>\n",
       "      <th>21</th>\n",
       "      <td>Bott</td>\n",
       "      <td>Larry</td>\n",
       "      <td>UK</td>\n",
       "    </tr>\n",
       "    <tr>\n",
       "      <th>22</th>\n",
       "      <td>Jones</td>\n",
       "      <td>Barry</td>\n",
       "      <td>UK</td>\n",
       "    </tr>\n",
       "  </tbody>\n",
       "</table>\n",
       "</div>"
      ],
      "text/plain": [
       "     lastName firstName    country\n",
       "10     Bondur    Gerard     France\n",
       "11     Bondur      Loui     France\n",
       "12  Hernandez    Gerard     France\n",
       "13   Castillo    Pamela     France\n",
       "14     Gerard    Martin     France\n",
       "15      Nishi      Mami      Japan\n",
       "16       Kato   Yoshimi      Japan\n",
       "17  Patterson   William  Australia\n",
       "18     Fixter      Andy  Australia\n",
       "19      Marsh     Peter  Australia\n",
       "20       King       Tom  Australia\n",
       "21       Bott     Larry         UK\n",
       "22      Jones     Barry         UK"
      ]
     },
     "execution_count": 7,
     "metadata": {},
     "output_type": "execute_result"
    }
   ],
   "source": [
    "# Your code here\n",
    "df.loc[df['country']!='USA',['lastName','firstName','country']]"
   ]
  },
  {
   "cell_type": "markdown",
   "metadata": {},
   "source": [
    "## Level Up: Display the names of each product each employee has sold."
   ]
  },
  {
   "cell_type": "code",
   "execution_count": 10,
   "metadata": {},
   "outputs": [],
   "source": [
    "# Your code here\n",
    "c.execute('''SELECT * FROM employees e\n",
    "                      JOIN customers c\n",
    "                      ON c.salesRepEmployeeNumber = e.employeeNumber\n",
    "                      JOIN orders\n",
    "                      USING(customerNumber)\n",
    "                      JOIN orderdetails\n",
    "                      USING(orderNumber)\n",
    "                      JOIN products\n",
    "                      USING(productCode);\n",
    "                      ''')\n",
    "df = pd.DataFrame(c.fetchall())\n",
    "df.columns = [i[0] for i in c.description]"
   ]
  },
  {
   "cell_type": "code",
   "execution_count": 34,
   "metadata": {},
   "outputs": [
    {
     "data": {
      "text/plain": [
       "array(['1958 Setra Bus', '1940 Ford Pickup Truck',\n",
       "       '1939 Cadillac Limousine',\n",
       "       '1996 Peterbilt 379 Stake Bed with Outrigger', '1968 Ford Mustang',\n",
       "       '1968 Dodge Charger', '1970 Plymouth Hemi Cuda',\n",
       "       '1969 Dodge Charger', '1948 Porsche 356-A Roadster',\n",
       "       '1969 Dodge Super Bee', '1976 Ford Gran Torino',\n",
       "       '1957 Vespa GS150', '1957 Corvette Convertible',\n",
       "       '1982 Ducati 900 Monster', '1982 Lamborghini Diablo',\n",
       "       '1971 Alpine Renault 1600s', '1956 Porsche 356A Coupe',\n",
       "       '1961 Chevrolet Impala', '1982 Ducati 996 R',\n",
       "       '1974 Ducati 350 Mk3 Desmo', '2002 Yamaha YZR M1',\n",
       "       '2001 Ferrari Enzo', '1969 Corvair Monza', '1969 Ford Falcon',\n",
       "       '1903 Ford Model A', 'Collectable Wooden Train',\n",
       "       '1970 Triumph Spitfire', '1904 Buick Runabout',\n",
       "       '18th century schooner', '1912 Ford Model T Delivery Wagon',\n",
       "       \"1950's Chicago Surface Lines Streetcar\",\n",
       "       '1962 City of Detroit Streetcar', 'The Schooner Bluenose',\n",
       "       'The Mayflower', 'The Titanic', 'The Queen Mary', 'Pont Yacht',\n",
       "       '1937 Lincoln Berline', '1936 Mercedes-Benz 500K Special Roadster',\n",
       "       '1917 Grand Touring Sedan', '1911 Ford Town Car',\n",
       "       '1932 Model A Ford J-Coupe', '1928 Mercedes-Benz SSK',\n",
       "       '1917 Maxwell Touring Car', '1932 Alfa Romeo 8C2300 Spider Sport',\n",
       "       '1957 Ford Thunderbird', '1970 Chevy Chevelle SS 454',\n",
       "       '1939 Chevrolet Deluxe Coupe',\n",
       "       '1938 Cadillac V-16 Presidential Limousine', '1949 Jaguar XK 120',\n",
       "       '1952 Citroen-15CV', '1969 Chevrolet Camaro Z28',\n",
       "       '2002 Chevy Corvette', '1936 Mercedes Benz 500k Roadster',\n",
       "       '1962 LanciaA Delta 16V', '1957 Chevy Pickup',\n",
       "       '1964 Mercedes Tour Bus', '1926 Ford Fire Engine',\n",
       "       '1992 Ferrari 360 Spider red', '1940s Ford truck',\n",
       "       '1962 Volkswagen Microbus', '1958 Chevy Corvette Limited Edition',\n",
       "       '1980’s GM Manhattan Express', '1954 Greyhound Scenicruiser',\n",
       "       '1982 Camaro Z28', '1998 Chrysler Plymouth Prowler',\n",
       "       '1970 Dodge Coronet', '1992 Porsche Cayenne Turbo Silver',\n",
       "       'Diamond T620 Semi-Skirted Tanker', '1952 Alpine Renault 1300',\n",
       "       '1913 Ford Model T Speedster', '1934 Ford V8 Coupe',\n",
       "       '18th Century Vintage Horse Carriage', '1936 Chrysler Airflow',\n",
       "       '1940 Ford Delivery Sedan', '1993 Mazda RX-7', '1995 Honda Civic',\n",
       "       '1969 Harley Davidson Ultimate Chopper', '1996 Moto Guzzi 1100i',\n",
       "       '2003 Harley-Davidson Eagle Drag Bike', '2002 Suzuki XREO',\n",
       "       '1936 Harley Davidson El Knucklehead', '1997 BMW R 1100 S',\n",
       "       '1960 BSA Gold Star DBD34', 'P-51-D Mustang',\n",
       "       '1928 British Royal Navy Airplane', 'Corsair F4U ( Bird Cage)',\n",
       "       '1900s Vintage Tri-Plane', '1997 BMW F650 ST',\n",
       "       '1928 Ford Phaeton Deluxe', '1930 Buick Marquette Phaeton',\n",
       "       'American Airlines: B767-300', 'America West Airlines B757-200',\n",
       "       'ATA: B757-300', 'F/A 18 Hornet 1/72', 'American Airlines: MD-11S',\n",
       "       '1972 Alfa Romeo GTA', '1980s Black Hawk Helicopter',\n",
       "       '1999 Yamaha Speed Boat',\n",
       "       '1941 Chevrolet Special Deluxe Cabriolet',\n",
       "       '1900s Vintage Bi-Plane', '1937 Horch 930V Limousine',\n",
       "       'HMS Bounty', 'Boeing X-32A JSF', '1965 Aston Martin DB5',\n",
       "       '1999 Indy 500 Monte Carlo SS', '1966 Shelby Cobra 427 S/C',\n",
       "       '1948 Porsche Type 356 Roadster', 'The USS Constitution Ship'],\n",
       "      dtype=object)"
      ]
     },
     "execution_count": 34,
     "metadata": {},
     "output_type": "execute_result"
    }
   ],
   "source": [
    "#df[['productName','lastName','firstName']]\n",
    "df['productName'].unique()"
   ]
  },
  {
   "cell_type": "markdown",
   "metadata": {},
   "source": [
    "## Level Up: Display the Number of Products each Employee Has sold"
   ]
  },
  {
   "cell_type": "code",
   "execution_count": null,
   "metadata": {},
   "outputs": [],
   "source": [
    "#Your code here"
   ]
  },
  {
   "cell_type": "markdown",
   "metadata": {},
   "source": [
    "## Summary"
   ]
  },
  {
   "cell_type": "markdown",
   "metadata": {},
   "source": [
    "Congrats! You now know how to use Join statements, along with leveraging your foreign keys knowledge!"
   ]
  }
 ],
 "metadata": {
  "kernelspec": {
   "display_name": "Python 3",
   "language": "python",
   "name": "python3"
  },
  "language_info": {
   "codemirror_mode": {
    "name": "ipython",
    "version": 3
   },
   "file_extension": ".py",
   "mimetype": "text/x-python",
   "name": "python",
   "nbconvert_exporter": "python",
   "pygments_lexer": "ipython3",
   "version": "3.6.6"
  }
 },
 "nbformat": 4,
 "nbformat_minor": 2
}
