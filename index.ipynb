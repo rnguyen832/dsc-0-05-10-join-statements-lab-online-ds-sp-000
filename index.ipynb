{
 "cells": [
  {
   "cell_type": "markdown",
   "metadata": {},
   "source": [
    "# Join Statements"
   ]
  },
  {
   "cell_type": "markdown",
   "metadata": {},
   "source": [
    "## Introduction"
   ]
  },
  {
   "cell_type": "markdown",
   "metadata": {},
   "source": [
    "In this lab, you'll practice your knowledge on Join statements."
   ]
  },
  {
   "cell_type": "markdown",
   "metadata": {},
   "source": [
    "## Objectives"
   ]
  },
  {
   "cell_type": "markdown",
   "metadata": {},
   "source": [
    "You will be able to:\n",
    "- Write queries that make use of various types of Joins\n",
    "- Join tables using foreign keys"
   ]
  },
  {
   "cell_type": "markdown",
   "metadata": {},
   "source": [
    "## CRM Schema\n",
    "\n",
    "In almost all cases, rather then just working with a single table we will typically need data from multiple tables. \n",
    "Doing this requires the use of **joins ** using shared columns from the two tables. \n",
    "\n",
    "In this lab, we'll use the same Customer Relationship Management (CRM) database we used in our lecture before!\n",
    "<img src='Database-Schema.png' width=550>"
   ]
  },
  {
   "cell_type": "markdown",
   "metadata": {},
   "source": [
    "## Connecting to the Database\n",
    "Import the necessary packages and connect to the database **data.sqlite**."
   ]
  },
  {
   "cell_type": "code",
   "execution_count": 1,
   "metadata": {},
   "outputs": [],
   "source": [
    "#Your code here\n",
    "import sqlite3\n",
    "import pandas as pd"
   ]
  },
  {
   "cell_type": "code",
   "execution_count": 2,
   "metadata": {},
   "outputs": [],
   "source": [
    "conn = sqlite3.connect('data.sqlite', detect_types=sqlite3.PARSE_COLNAMES)\n",
    "c = conn.cursor()"
   ]
  },
  {
   "cell_type": "markdown",
   "metadata": {},
   "source": [
    "## Display the names of all the employees in Boston."
   ]
  },
  {
   "cell_type": "code",
   "execution_count": 3,
   "metadata": {},
   "outputs": [
    {
     "data": {
      "text/html": [
       "<div>\n",
       "<style scoped>\n",
       "    .dataframe tbody tr th:only-of-type {\n",
       "        vertical-align: middle;\n",
       "    }\n",
       "\n",
       "    .dataframe tbody tr th {\n",
       "        vertical-align: top;\n",
       "    }\n",
       "\n",
       "    .dataframe thead th {\n",
       "        text-align: right;\n",
       "    }\n",
       "</style>\n",
       "<table border=\"1\" class=\"dataframe\">\n",
       "  <thead>\n",
       "    <tr style=\"text-align: right;\">\n",
       "      <th></th>\n",
       "      <th>lastName</th>\n",
       "      <th>firstName</th>\n",
       "    </tr>\n",
       "  </thead>\n",
       "  <tbody>\n",
       "    <tr>\n",
       "      <th>6</th>\n",
       "      <td>Firrelli</td>\n",
       "      <td>Julie</td>\n",
       "    </tr>\n",
       "    <tr>\n",
       "      <th>7</th>\n",
       "      <td>Patterson</td>\n",
       "      <td>Steve</td>\n",
       "    </tr>\n",
       "  </tbody>\n",
       "</table>\n",
       "</div>"
      ],
      "text/plain": [
       "    lastName firstName\n",
       "6   Firrelli     Julie\n",
       "7  Patterson     Steve"
      ]
     },
     "execution_count": 3,
     "metadata": {},
     "output_type": "execute_result"
    }
   ],
   "source": [
    "#Your code here\n",
    "c.execute('''SELECT * FROM offices\n",
    "                      JOIN employees\n",
    "                      USING(officeCode);\n",
    "                      ''')\n",
    "df = pd.DataFrame(c.fetchall())\n",
    "df.columns = [i[0] for i in c.description]\n",
    "df.loc[df['city']=='Boston',['lastName','firstName']]"
   ]
  },
  {
   "cell_type": "markdown",
   "metadata": {},
   "source": [
    "## Do any offices have no employees?"
   ]
  },
  {
   "cell_type": "markdown",
   "metadata": {},
   "source": [
    "0 offices have no employees."
   ]
  },
  {
   "cell_type": "code",
   "execution_count": 4,
   "metadata": {},
   "outputs": [
    {
     "data": {
      "text/html": [
       "<div>\n",
       "<style scoped>\n",
       "    .dataframe tbody tr th:only-of-type {\n",
       "        vertical-align: middle;\n",
       "    }\n",
       "\n",
       "    .dataframe tbody tr th {\n",
       "        vertical-align: top;\n",
       "    }\n",
       "\n",
       "    .dataframe thead th {\n",
       "        text-align: right;\n",
       "    }\n",
       "</style>\n",
       "<table border=\"1\" class=\"dataframe\">\n",
       "  <thead>\n",
       "    <tr style=\"text-align: right;\">\n",
       "      <th></th>\n",
       "      <th>officeCode</th>\n",
       "      <th>city</th>\n",
       "      <th>phone</th>\n",
       "      <th>addressLine1</th>\n",
       "      <th>addressLine2</th>\n",
       "      <th>state</th>\n",
       "      <th>country</th>\n",
       "      <th>postalCode</th>\n",
       "      <th>territory</th>\n",
       "      <th>employeeNumber</th>\n",
       "      <th>lastName</th>\n",
       "      <th>firstName</th>\n",
       "      <th>extension</th>\n",
       "      <th>email</th>\n",
       "      <th>reportsTo</th>\n",
       "      <th>jobTitle</th>\n",
       "    </tr>\n",
       "  </thead>\n",
       "  <tbody>\n",
       "  </tbody>\n",
       "</table>\n",
       "</div>"
      ],
      "text/plain": [
       "Empty DataFrame\n",
       "Columns: [officeCode, city, phone, addressLine1, addressLine2, state, country, postalCode, territory, employeeNumber, lastName, firstName, extension, email, reportsTo, jobTitle]\n",
       "Index: []"
      ]
     },
     "execution_count": 4,
     "metadata": {},
     "output_type": "execute_result"
    }
   ],
   "source": [
    "#Your code here\n",
    "df.loc[df['employeeNumber']=='']"
   ]
  },
  {
   "cell_type": "markdown",
   "metadata": {},
   "source": [
    "## Write 3 Questions of your own and answer them"
   ]
  },
  {
   "cell_type": "markdown",
   "metadata": {},
   "source": [
    "Which employees report to no one?\n",
    "\n",
    "Who works at office code 3?\n",
    "\n",
    "Who works outside of the USA?"
   ]
  },
  {
   "cell_type": "code",
   "execution_count": 5,
   "metadata": {},
   "outputs": [
    {
     "data": {
      "text/html": [
       "<div>\n",
       "<style scoped>\n",
       "    .dataframe tbody tr th:only-of-type {\n",
       "        vertical-align: middle;\n",
       "    }\n",
       "\n",
       "    .dataframe tbody tr th {\n",
       "        vertical-align: top;\n",
       "    }\n",
       "\n",
       "    .dataframe thead th {\n",
       "        text-align: right;\n",
       "    }\n",
       "</style>\n",
       "<table border=\"1\" class=\"dataframe\">\n",
       "  <thead>\n",
       "    <tr style=\"text-align: right;\">\n",
       "      <th></th>\n",
       "      <th>lastName</th>\n",
       "      <th>firstName</th>\n",
       "    </tr>\n",
       "  </thead>\n",
       "  <tbody>\n",
       "    <tr>\n",
       "      <th>0</th>\n",
       "      <td>Murphy</td>\n",
       "      <td>Diane</td>\n",
       "    </tr>\n",
       "  </tbody>\n",
       "</table>\n",
       "</div>"
      ],
      "text/plain": [
       "  lastName firstName\n",
       "0   Murphy     Diane"
      ]
     },
     "execution_count": 5,
     "metadata": {},
     "output_type": "execute_result"
    }
   ],
   "source": [
    "# Your code here\n",
    "df.loc[df['reportsTo']=='',['lastName','firstName']]"
   ]
  },
  {
   "cell_type": "code",
   "execution_count": 6,
   "metadata": {},
   "outputs": [
    {
     "data": {
      "text/html": [
       "<div>\n",
       "<style scoped>\n",
       "    .dataframe tbody tr th:only-of-type {\n",
       "        vertical-align: middle;\n",
       "    }\n",
       "\n",
       "    .dataframe tbody tr th {\n",
       "        vertical-align: top;\n",
       "    }\n",
       "\n",
       "    .dataframe thead th {\n",
       "        text-align: right;\n",
       "    }\n",
       "</style>\n",
       "<table border=\"1\" class=\"dataframe\">\n",
       "  <thead>\n",
       "    <tr style=\"text-align: right;\">\n",
       "      <th></th>\n",
       "      <th>officeCode</th>\n",
       "      <th>city</th>\n",
       "      <th>phone</th>\n",
       "      <th>addressLine1</th>\n",
       "      <th>addressLine2</th>\n",
       "      <th>state</th>\n",
       "      <th>country</th>\n",
       "      <th>postalCode</th>\n",
       "      <th>territory</th>\n",
       "      <th>employeeNumber</th>\n",
       "      <th>lastName</th>\n",
       "      <th>firstName</th>\n",
       "      <th>extension</th>\n",
       "      <th>email</th>\n",
       "      <th>reportsTo</th>\n",
       "      <th>jobTitle</th>\n",
       "    </tr>\n",
       "  </thead>\n",
       "  <tbody>\n",
       "    <tr>\n",
       "      <th>8</th>\n",
       "      <td>3</td>\n",
       "      <td>NYC</td>\n",
       "      <td>+1 212 555 3000</td>\n",
       "      <td>523 East 53rd Street</td>\n",
       "      <td>apt. 5A</td>\n",
       "      <td>NY</td>\n",
       "      <td>USA</td>\n",
       "      <td>10022</td>\n",
       "      <td>NA</td>\n",
       "      <td>1286</td>\n",
       "      <td>Tseng</td>\n",
       "      <td>Foon Yue</td>\n",
       "      <td>x2248</td>\n",
       "      <td>ftseng@classicmodelcars.com</td>\n",
       "      <td>1143</td>\n",
       "      <td>Sales Rep</td>\n",
       "    </tr>\n",
       "    <tr>\n",
       "      <th>9</th>\n",
       "      <td>3</td>\n",
       "      <td>NYC</td>\n",
       "      <td>+1 212 555 3000</td>\n",
       "      <td>523 East 53rd Street</td>\n",
       "      <td>apt. 5A</td>\n",
       "      <td>NY</td>\n",
       "      <td>USA</td>\n",
       "      <td>10022</td>\n",
       "      <td>NA</td>\n",
       "      <td>1323</td>\n",
       "      <td>Vanauf</td>\n",
       "      <td>George</td>\n",
       "      <td>x4102</td>\n",
       "      <td>gvanauf@classicmodelcars.com</td>\n",
       "      <td>1143</td>\n",
       "      <td>Sales Rep</td>\n",
       "    </tr>\n",
       "  </tbody>\n",
       "</table>\n",
       "</div>"
      ],
      "text/plain": [
       "  officeCode city            phone          addressLine1 addressLine2 state  \\\n",
       "8          3  NYC  +1 212 555 3000  523 East 53rd Street      apt. 5A    NY   \n",
       "9          3  NYC  +1 212 555 3000  523 East 53rd Street      apt. 5A    NY   \n",
       "\n",
       "  country postalCode territory employeeNumber lastName firstName extension  \\\n",
       "8     USA      10022        NA           1286    Tseng  Foon Yue     x2248   \n",
       "9     USA      10022        NA           1323   Vanauf    George     x4102   \n",
       "\n",
       "                          email reportsTo   jobTitle  \n",
       "8   ftseng@classicmodelcars.com      1143  Sales Rep  \n",
       "9  gvanauf@classicmodelcars.com      1143  Sales Rep  "
      ]
     },
     "execution_count": 6,
     "metadata": {},
     "output_type": "execute_result"
    }
   ],
   "source": [
    "# Your code here\n",
    "df.loc[df['officeCode']=='3']"
   ]
  },
  {
   "cell_type": "code",
   "execution_count": 7,
   "metadata": {},
   "outputs": [
    {
     "data": {
      "text/html": [
       "<div>\n",
       "<style scoped>\n",
       "    .dataframe tbody tr th:only-of-type {\n",
       "        vertical-align: middle;\n",
       "    }\n",
       "\n",
       "    .dataframe tbody tr th {\n",
       "        vertical-align: top;\n",
       "    }\n",
       "\n",
       "    .dataframe thead th {\n",
       "        text-align: right;\n",
       "    }\n",
       "</style>\n",
       "<table border=\"1\" class=\"dataframe\">\n",
       "  <thead>\n",
       "    <tr style=\"text-align: right;\">\n",
       "      <th></th>\n",
       "      <th>lastName</th>\n",
       "      <th>firstName</th>\n",
       "      <th>country</th>\n",
       "    </tr>\n",
       "  </thead>\n",
       "  <tbody>\n",
       "    <tr>\n",
       "      <th>10</th>\n",
       "      <td>Bondur</td>\n",
       "      <td>Gerard</td>\n",
       "      <td>France</td>\n",
       "    </tr>\n",
       "    <tr>\n",
       "      <th>11</th>\n",
       "      <td>Bondur</td>\n",
       "      <td>Loui</td>\n",
       "      <td>France</td>\n",
       "    </tr>\n",
       "    <tr>\n",
       "      <th>12</th>\n",
       "      <td>Hernandez</td>\n",
       "      <td>Gerard</td>\n",
       "      <td>France</td>\n",
       "    </tr>\n",
       "    <tr>\n",
       "      <th>13</th>\n",
       "      <td>Castillo</td>\n",
       "      <td>Pamela</td>\n",
       "      <td>France</td>\n",
       "    </tr>\n",
       "    <tr>\n",
       "      <th>14</th>\n",
       "      <td>Gerard</td>\n",
       "      <td>Martin</td>\n",
       "      <td>France</td>\n",
       "    </tr>\n",
       "    <tr>\n",
       "      <th>15</th>\n",
       "      <td>Nishi</td>\n",
       "      <td>Mami</td>\n",
       "      <td>Japan</td>\n",
       "    </tr>\n",
       "    <tr>\n",
       "      <th>16</th>\n",
       "      <td>Kato</td>\n",
       "      <td>Yoshimi</td>\n",
       "      <td>Japan</td>\n",
       "    </tr>\n",
       "    <tr>\n",
       "      <th>17</th>\n",
       "      <td>Patterson</td>\n",
       "      <td>William</td>\n",
       "      <td>Australia</td>\n",
       "    </tr>\n",
       "    <tr>\n",
       "      <th>18</th>\n",
       "      <td>Fixter</td>\n",
       "      <td>Andy</td>\n",
       "      <td>Australia</td>\n",
       "    </tr>\n",
       "    <tr>\n",
       "      <th>19</th>\n",
       "      <td>Marsh</td>\n",
       "      <td>Peter</td>\n",
       "      <td>Australia</td>\n",
       "    </tr>\n",
       "    <tr>\n",
       "      <th>20</th>\n",
       "      <td>King</td>\n",
       "      <td>Tom</td>\n",
       "      <td>Australia</td>\n",
       "    </tr>\n",
       "    <tr>\n",
       "      <th>21</th>\n",
       "      <td>Bott</td>\n",
       "      <td>Larry</td>\n",
       "      <td>UK</td>\n",
       "    </tr>\n",
       "    <tr>\n",
       "      <th>22</th>\n",
       "      <td>Jones</td>\n",
       "      <td>Barry</td>\n",
       "      <td>UK</td>\n",
       "    </tr>\n",
       "  </tbody>\n",
       "</table>\n",
       "</div>"
      ],
      "text/plain": [
       "     lastName firstName    country\n",
       "10     Bondur    Gerard     France\n",
       "11     Bondur      Loui     France\n",
       "12  Hernandez    Gerard     France\n",
       "13   Castillo    Pamela     France\n",
       "14     Gerard    Martin     France\n",
       "15      Nishi      Mami      Japan\n",
       "16       Kato   Yoshimi      Japan\n",
       "17  Patterson   William  Australia\n",
       "18     Fixter      Andy  Australia\n",
       "19      Marsh     Peter  Australia\n",
       "20       King       Tom  Australia\n",
       "21       Bott     Larry         UK\n",
       "22      Jones     Barry         UK"
      ]
     },
     "execution_count": 7,
     "metadata": {},
     "output_type": "execute_result"
    }
   ],
   "source": [
    "# Your code here\n",
    "df.loc[df['country']!='USA',['lastName','firstName','country']]"
   ]
  },
  {
   "cell_type": "markdown",
   "metadata": {},
   "source": [
    "## Level Up: Display the names of each product each employee has sold."
   ]
  },
  {
   "cell_type": "code",
   "execution_count": 10,
   "metadata": {},
   "outputs": [],
   "source": [
    "# Your code here\n",
    "c.execute('''SELECT * FROM employees e\n",
    "                      JOIN customers c\n",
    "                      ON c.salesRepEmployeeNumber = e.employeeNumber\n",
    "                      JOIN orders\n",
    "                      USING(customerNumber)\n",
    "                      JOIN orderdetails\n",
    "                      USING(orderNumber)\n",
    "                      JOIN products\n",
    "                      USING(productCode);\n",
    "                      ''')\n",
    "df = pd.DataFrame(c.fetchall())\n",
    "df.columns = [i[0] for i in c.description]"
   ]
  },
  {
   "cell_type": "code",
   "execution_count": 44,
   "metadata": {},
   "outputs": [
    {
     "ename": "KeyError",
     "evalue": "'None of [[\\'1958 Setra Bus\\' \\'1940 Ford Pickup Truck\\' \\'1939 Cadillac Limousine\\'\\n \\'1996 Peterbilt 379 Stake Bed with Outrigger\\' \\'1968 Ford Mustang\\'\\n \\'1968 Dodge Charger\\' \\'1970 Plymouth Hemi Cuda\\' \\'1969 Dodge Charger\\'\\n \\'1948 Porsche 356-A Roadster\\' \\'1969 Dodge Super Bee\\'\\n \\'1976 Ford Gran Torino\\' \\'1957 Vespa GS150\\' \\'1957 Corvette Convertible\\'\\n \\'1982 Ducati 900 Monster\\' \\'1982 Lamborghini Diablo\\'\\n \\'1971 Alpine Renault 1600s\\' \\'1956 Porsche 356A Coupe\\'\\n \\'1961 Chevrolet Impala\\' \\'1982 Ducati 996 R\\' \\'1974 Ducati 350 Mk3 Desmo\\'\\n \\'2002 Yamaha YZR M1\\' \\'2001 Ferrari Enzo\\' \\'1969 Corvair Monza\\'\\n \\'1969 Ford Falcon\\' \\'1903 Ford Model A\\' \\'Collectable Wooden Train\\'\\n \\'1970 Triumph Spitfire\\' \\'1904 Buick Runabout\\' \\'18th century schooner\\'\\n \\'1912 Ford Model T Delivery Wagon\\'\\n \"1950\\'s Chicago Surface Lines Streetcar\" \\'1962 City of Detroit Streetcar\\'\\n \\'The Schooner Bluenose\\' \\'The Mayflower\\' \\'The Titanic\\' \\'The Queen Mary\\'\\n \\'Pont Yacht\\' \\'1937 Lincoln Berline\\'\\n \\'1936 Mercedes-Benz 500K Special Roadster\\' \\'1917 Grand Touring Sedan\\'\\n \\'1911 Ford Town Car\\' \\'1932 Model A Ford J-Coupe\\' \\'1928 Mercedes-Benz SSK\\'\\n \\'1917 Maxwell Touring Car\\' \\'1932 Alfa Romeo 8C2300 Spider Sport\\'\\n \\'1957 Ford Thunderbird\\' \\'1970 Chevy Chevelle SS 454\\'\\n \\'1939 Chevrolet Deluxe Coupe\\' \\'1938 Cadillac V-16 Presidential Limousine\\'\\n \\'1949 Jaguar XK 120\\' \\'1952 Citroen-15CV\\' \\'1969 Chevrolet Camaro Z28\\'\\n \\'2002 Chevy Corvette\\' \\'1936 Mercedes Benz 500k Roadster\\'\\n \\'1962 LanciaA Delta 16V\\' \\'1957 Chevy Pickup\\' \\'1964 Mercedes Tour Bus\\'\\n \\'1926 Ford Fire Engine\\' \\'1992 Ferrari 360 Spider red\\' \\'1940s Ford truck\\'\\n \\'1962 Volkswagen Microbus\\' \\'1958 Chevy Corvette Limited Edition\\'\\n \\'1980’s GM Manhattan Express\\' \\'1954 Greyhound Scenicruiser\\'\\n \\'1982 Camaro Z28\\' \\'1998 Chrysler Plymouth Prowler\\' \\'1970 Dodge Coronet\\'\\n \\'1992 Porsche Cayenne Turbo Silver\\' \\'Diamond T620 Semi-Skirted Tanker\\'\\n \\'1952 Alpine Renault 1300\\' \\'1913 Ford Model T Speedster\\'\\n \\'1934 Ford V8 Coupe\\' \\'18th Century Vintage Horse Carriage\\'\\n \\'1936 Chrysler Airflow\\' \\'1940 Ford Delivery Sedan\\' \\'1993 Mazda RX-7\\'\\n \\'1995 Honda Civic\\' \\'1969 Harley Davidson Ultimate Chopper\\'\\n \\'1996 Moto Guzzi 1100i\\' \\'2003 Harley-Davidson Eagle Drag Bike\\'\\n \\'2002 Suzuki XREO\\' \\'1936 Harley Davidson El Knucklehead\\'\\n \\'1997 BMW R 1100 S\\' \\'1960 BSA Gold Star DBD34\\' \\'P-51-D Mustang\\'\\n \\'1928 British Royal Navy Airplane\\' \\'Corsair F4U ( Bird Cage)\\'\\n \\'1900s Vintage Tri-Plane\\' \\'1997 BMW F650 ST\\' \\'1928 Ford Phaeton Deluxe\\'\\n \\'1930 Buick Marquette Phaeton\\' \\'American Airlines: B767-300\\'\\n \\'America West Airlines B757-200\\' \\'ATA: B757-300\\' \\'F/A 18 Hornet 1/72\\'\\n \\'American Airlines: MD-11S\\' \\'1972 Alfa Romeo GTA\\'\\n \\'1980s Black Hawk Helicopter\\' \\'1999 Yamaha Speed Boat\\'\\n \\'1941 Chevrolet Special Deluxe Cabriolet\\' \\'1900s Vintage Bi-Plane\\'\\n \\'1937 Horch 930V Limousine\\' \\'HMS Bounty\\' \\'Boeing X-32A JSF\\'\\n \\'1965 Aston Martin DB5\\' \\'1999 Indy 500 Monte Carlo SS\\'\\n \\'1966 Shelby Cobra 427 S/C\\' \\'1948 Porsche Type 356 Roadster\\'\\n \\'The USS Constitution Ship\\']] are in the [index]'",
     "output_type": "error",
     "traceback": [
      "\u001b[0;31m\u001b[0m",
      "\u001b[0;31mKeyError\u001b[0mTraceback (most recent call last)",
      "\u001b[0;32m<ipython-input-44-514ef0972710>\u001b[0m in \u001b[0;36m<module>\u001b[0;34m()\u001b[0m\n\u001b[1;32m      1\u001b[0m \u001b[0;31m#df[['productName','lastName','firstName']]\u001b[0m\u001b[0;34m\u001b[0m\u001b[0;34m\u001b[0m\u001b[0m\n\u001b[0;32m----> 2\u001b[0;31m \u001b[0mdf\u001b[0m\u001b[0;34m[\u001b[0m\u001b[0;34m[\u001b[0m\u001b[0;34m'productName'\u001b[0m\u001b[0;34m,\u001b[0m\u001b[0;34m'lastName'\u001b[0m\u001b[0;34m,\u001b[0m\u001b[0;34m'firstName'\u001b[0m\u001b[0;34m]\u001b[0m\u001b[0;34m]\u001b[0m\u001b[0;34m.\u001b[0m\u001b[0mloc\u001b[0m\u001b[0;34m[\u001b[0m\u001b[0mdf\u001b[0m\u001b[0;34m[\u001b[0m\u001b[0;34m'productName'\u001b[0m\u001b[0;34m]\u001b[0m\u001b[0;34m.\u001b[0m\u001b[0munique\u001b[0m\u001b[0;34m(\u001b[0m\u001b[0;34m)\u001b[0m\u001b[0;34m]\u001b[0m\u001b[0;34m\u001b[0m\u001b[0m\n\u001b[0m",
      "\u001b[0;32m/opt/conda/envs/learn-env/lib/python3.6/site-packages/pandas/core/indexing.py\u001b[0m in \u001b[0;36m__getitem__\u001b[0;34m(self, key)\u001b[0m\n\u001b[1;32m   1476\u001b[0m \u001b[0;34m\u001b[0m\u001b[0m\n\u001b[1;32m   1477\u001b[0m             \u001b[0mmaybe_callable\u001b[0m \u001b[0;34m=\u001b[0m \u001b[0mcom\u001b[0m\u001b[0;34m.\u001b[0m\u001b[0m_apply_if_callable\u001b[0m\u001b[0;34m(\u001b[0m\u001b[0mkey\u001b[0m\u001b[0;34m,\u001b[0m \u001b[0mself\u001b[0m\u001b[0;34m.\u001b[0m\u001b[0mobj\u001b[0m\u001b[0;34m)\u001b[0m\u001b[0;34m\u001b[0m\u001b[0m\n\u001b[0;32m-> 1478\u001b[0;31m             \u001b[0;32mreturn\u001b[0m \u001b[0mself\u001b[0m\u001b[0;34m.\u001b[0m\u001b[0m_getitem_axis\u001b[0m\u001b[0;34m(\u001b[0m\u001b[0mmaybe_callable\u001b[0m\u001b[0;34m,\u001b[0m \u001b[0maxis\u001b[0m\u001b[0;34m=\u001b[0m\u001b[0maxis\u001b[0m\u001b[0;34m)\u001b[0m\u001b[0;34m\u001b[0m\u001b[0m\n\u001b[0m\u001b[1;32m   1479\u001b[0m \u001b[0;34m\u001b[0m\u001b[0m\n\u001b[1;32m   1480\u001b[0m     \u001b[0;32mdef\u001b[0m \u001b[0m_is_scalar_access\u001b[0m\u001b[0;34m(\u001b[0m\u001b[0mself\u001b[0m\u001b[0;34m,\u001b[0m \u001b[0mkey\u001b[0m\u001b[0;34m)\u001b[0m\u001b[0;34m:\u001b[0m\u001b[0;34m\u001b[0m\u001b[0m\n",
      "\u001b[0;32m/opt/conda/envs/learn-env/lib/python3.6/site-packages/pandas/core/indexing.py\u001b[0m in \u001b[0;36m_getitem_axis\u001b[0;34m(self, key, axis)\u001b[0m\n\u001b[1;32m   1899\u001b[0m                     \u001b[0;32mraise\u001b[0m \u001b[0mValueError\u001b[0m\u001b[0;34m(\u001b[0m\u001b[0;34m'Cannot index with multidimensional key'\u001b[0m\u001b[0;34m)\u001b[0m\u001b[0;34m\u001b[0m\u001b[0m\n\u001b[1;32m   1900\u001b[0m \u001b[0;34m\u001b[0m\u001b[0m\n\u001b[0;32m-> 1901\u001b[0;31m                 \u001b[0;32mreturn\u001b[0m \u001b[0mself\u001b[0m\u001b[0;34m.\u001b[0m\u001b[0m_getitem_iterable\u001b[0m\u001b[0;34m(\u001b[0m\u001b[0mkey\u001b[0m\u001b[0;34m,\u001b[0m \u001b[0maxis\u001b[0m\u001b[0;34m=\u001b[0m\u001b[0maxis\u001b[0m\u001b[0;34m)\u001b[0m\u001b[0;34m\u001b[0m\u001b[0m\n\u001b[0m\u001b[1;32m   1902\u001b[0m \u001b[0;34m\u001b[0m\u001b[0m\n\u001b[1;32m   1903\u001b[0m             \u001b[0;31m# nested tuple slicing\u001b[0m\u001b[0;34m\u001b[0m\u001b[0;34m\u001b[0m\u001b[0m\n",
      "\u001b[0;32m/opt/conda/envs/learn-env/lib/python3.6/site-packages/pandas/core/indexing.py\u001b[0m in \u001b[0;36m_getitem_iterable\u001b[0;34m(self, key, axis)\u001b[0m\n\u001b[1;32m   1141\u001b[0m             \u001b[0;32mif\u001b[0m \u001b[0mlabels\u001b[0m\u001b[0;34m.\u001b[0m\u001b[0mis_unique\u001b[0m \u001b[0;32mand\u001b[0m \u001b[0mIndex\u001b[0m\u001b[0;34m(\u001b[0m\u001b[0mkeyarr\u001b[0m\u001b[0;34m)\u001b[0m\u001b[0;34m.\u001b[0m\u001b[0mis_unique\u001b[0m\u001b[0;34m:\u001b[0m\u001b[0;34m\u001b[0m\u001b[0m\n\u001b[1;32m   1142\u001b[0m                 \u001b[0mindexer\u001b[0m \u001b[0;34m=\u001b[0m \u001b[0max\u001b[0m\u001b[0;34m.\u001b[0m\u001b[0mget_indexer_for\u001b[0m\u001b[0;34m(\u001b[0m\u001b[0mkey\u001b[0m\u001b[0;34m)\u001b[0m\u001b[0;34m\u001b[0m\u001b[0m\n\u001b[0;32m-> 1143\u001b[0;31m                 \u001b[0mself\u001b[0m\u001b[0;34m.\u001b[0m\u001b[0m_validate_read_indexer\u001b[0m\u001b[0;34m(\u001b[0m\u001b[0mkey\u001b[0m\u001b[0;34m,\u001b[0m \u001b[0mindexer\u001b[0m\u001b[0;34m,\u001b[0m \u001b[0maxis\u001b[0m\u001b[0;34m)\u001b[0m\u001b[0;34m\u001b[0m\u001b[0m\n\u001b[0m\u001b[1;32m   1144\u001b[0m \u001b[0;34m\u001b[0m\u001b[0m\n\u001b[1;32m   1145\u001b[0m                 \u001b[0md\u001b[0m \u001b[0;34m=\u001b[0m \u001b[0;34m{\u001b[0m\u001b[0maxis\u001b[0m\u001b[0;34m:\u001b[0m \u001b[0;34m[\u001b[0m\u001b[0max\u001b[0m\u001b[0;34m.\u001b[0m\u001b[0mreindex\u001b[0m\u001b[0;34m(\u001b[0m\u001b[0mkeyarr\u001b[0m\u001b[0;34m)\u001b[0m\u001b[0;34m[\u001b[0m\u001b[0;36m0\u001b[0m\u001b[0;34m]\u001b[0m\u001b[0;34m,\u001b[0m \u001b[0mindexer\u001b[0m\u001b[0;34m]\u001b[0m\u001b[0;34m}\u001b[0m\u001b[0;34m\u001b[0m\u001b[0m\n",
      "\u001b[0;32m/opt/conda/envs/learn-env/lib/python3.6/site-packages/pandas/core/indexing.py\u001b[0m in \u001b[0;36m_validate_read_indexer\u001b[0;34m(self, key, indexer, axis)\u001b[0m\n\u001b[1;32m   1204\u001b[0m                 raise KeyError(\n\u001b[1;32m   1205\u001b[0m                     u\"None of [{key}] are in the [{axis}]\".format(\n\u001b[0;32m-> 1206\u001b[0;31m                         key=key, axis=self.obj._get_axis_name(axis)))\n\u001b[0m\u001b[1;32m   1207\u001b[0m \u001b[0;34m\u001b[0m\u001b[0m\n\u001b[1;32m   1208\u001b[0m             \u001b[0;31m# we skip the warning on Categorical/Interval\u001b[0m\u001b[0;34m\u001b[0m\u001b[0;34m\u001b[0m\u001b[0m\n",
      "\u001b[0;31mKeyError\u001b[0m: 'None of [[\\'1958 Setra Bus\\' \\'1940 Ford Pickup Truck\\' \\'1939 Cadillac Limousine\\'\\n \\'1996 Peterbilt 379 Stake Bed with Outrigger\\' \\'1968 Ford Mustang\\'\\n \\'1968 Dodge Charger\\' \\'1970 Plymouth Hemi Cuda\\' \\'1969 Dodge Charger\\'\\n \\'1948 Porsche 356-A Roadster\\' \\'1969 Dodge Super Bee\\'\\n \\'1976 Ford Gran Torino\\' \\'1957 Vespa GS150\\' \\'1957 Corvette Convertible\\'\\n \\'1982 Ducati 900 Monster\\' \\'1982 Lamborghini Diablo\\'\\n \\'1971 Alpine Renault 1600s\\' \\'1956 Porsche 356A Coupe\\'\\n \\'1961 Chevrolet Impala\\' \\'1982 Ducati 996 R\\' \\'1974 Ducati 350 Mk3 Desmo\\'\\n \\'2002 Yamaha YZR M1\\' \\'2001 Ferrari Enzo\\' \\'1969 Corvair Monza\\'\\n \\'1969 Ford Falcon\\' \\'1903 Ford Model A\\' \\'Collectable Wooden Train\\'\\n \\'1970 Triumph Spitfire\\' \\'1904 Buick Runabout\\' \\'18th century schooner\\'\\n \\'1912 Ford Model T Delivery Wagon\\'\\n \"1950\\'s Chicago Surface Lines Streetcar\" \\'1962 City of Detroit Streetcar\\'\\n \\'The Schooner Bluenose\\' \\'The Mayflower\\' \\'The Titanic\\' \\'The Queen Mary\\'\\n \\'Pont Yacht\\' \\'1937 Lincoln Berline\\'\\n \\'1936 Mercedes-Benz 500K Special Roadster\\' \\'1917 Grand Touring Sedan\\'\\n \\'1911 Ford Town Car\\' \\'1932 Model A Ford J-Coupe\\' \\'1928 Mercedes-Benz SSK\\'\\n \\'1917 Maxwell Touring Car\\' \\'1932 Alfa Romeo 8C2300 Spider Sport\\'\\n \\'1957 Ford Thunderbird\\' \\'1970 Chevy Chevelle SS 454\\'\\n \\'1939 Chevrolet Deluxe Coupe\\' \\'1938 Cadillac V-16 Presidential Limousine\\'\\n \\'1949 Jaguar XK 120\\' \\'1952 Citroen-15CV\\' \\'1969 Chevrolet Camaro Z28\\'\\n \\'2002 Chevy Corvette\\' \\'1936 Mercedes Benz 500k Roadster\\'\\n \\'1962 LanciaA Delta 16V\\' \\'1957 Chevy Pickup\\' \\'1964 Mercedes Tour Bus\\'\\n \\'1926 Ford Fire Engine\\' \\'1992 Ferrari 360 Spider red\\' \\'1940s Ford truck\\'\\n \\'1962 Volkswagen Microbus\\' \\'1958 Chevy Corvette Limited Edition\\'\\n \\'1980’s GM Manhattan Express\\' \\'1954 Greyhound Scenicruiser\\'\\n \\'1982 Camaro Z28\\' \\'1998 Chrysler Plymouth Prowler\\' \\'1970 Dodge Coronet\\'\\n \\'1992 Porsche Cayenne Turbo Silver\\' \\'Diamond T620 Semi-Skirted Tanker\\'\\n \\'1952 Alpine Renault 1300\\' \\'1913 Ford Model T Speedster\\'\\n \\'1934 Ford V8 Coupe\\' \\'18th Century Vintage Horse Carriage\\'\\n \\'1936 Chrysler Airflow\\' \\'1940 Ford Delivery Sedan\\' \\'1993 Mazda RX-7\\'\\n \\'1995 Honda Civic\\' \\'1969 Harley Davidson Ultimate Chopper\\'\\n \\'1996 Moto Guzzi 1100i\\' \\'2003 Harley-Davidson Eagle Drag Bike\\'\\n \\'2002 Suzuki XREO\\' \\'1936 Harley Davidson El Knucklehead\\'\\n \\'1997 BMW R 1100 S\\' \\'1960 BSA Gold Star DBD34\\' \\'P-51-D Mustang\\'\\n \\'1928 British Royal Navy Airplane\\' \\'Corsair F4U ( Bird Cage)\\'\\n \\'1900s Vintage Tri-Plane\\' \\'1997 BMW F650 ST\\' \\'1928 Ford Phaeton Deluxe\\'\\n \\'1930 Buick Marquette Phaeton\\' \\'American Airlines: B767-300\\'\\n \\'America West Airlines B757-200\\' \\'ATA: B757-300\\' \\'F/A 18 Hornet 1/72\\'\\n \\'American Airlines: MD-11S\\' \\'1972 Alfa Romeo GTA\\'\\n \\'1980s Black Hawk Helicopter\\' \\'1999 Yamaha Speed Boat\\'\\n \\'1941 Chevrolet Special Deluxe Cabriolet\\' \\'1900s Vintage Bi-Plane\\'\\n \\'1937 Horch 930V Limousine\\' \\'HMS Bounty\\' \\'Boeing X-32A JSF\\'\\n \\'1965 Aston Martin DB5\\' \\'1999 Indy 500 Monte Carlo SS\\'\\n \\'1966 Shelby Cobra 427 S/C\\' \\'1948 Porsche Type 356 Roadster\\'\\n \\'The USS Constitution Ship\\']] are in the [index]'"
     ]
    }
   ],
   "source": [
    "#df[['productName','lastName','firstName']]\n",
    "df[['productName','lastName','firstName']].loc[df['productName'].unique()]"
   ]
  },
  {
   "cell_type": "markdown",
   "metadata": {},
   "source": [
    "## Level Up: Display the Number of Products each Employee Has sold"
   ]
  },
  {
   "cell_type": "code",
   "execution_count": null,
   "metadata": {},
   "outputs": [],
   "source": [
    "#Your code here"
   ]
  },
  {
   "cell_type": "markdown",
   "metadata": {},
   "source": [
    "## Summary"
   ]
  },
  {
   "cell_type": "markdown",
   "metadata": {},
   "source": [
    "Congrats! You now know how to use Join statements, along with leveraging your foreign keys knowledge!"
   ]
  }
 ],
 "metadata": {
  "kernelspec": {
   "display_name": "Python 3",
   "language": "python",
   "name": "python3"
  },
  "language_info": {
   "codemirror_mode": {
    "name": "ipython",
    "version": 3
   },
   "file_extension": ".py",
   "mimetype": "text/x-python",
   "name": "python",
   "nbconvert_exporter": "python",
   "pygments_lexer": "ipython3",
   "version": "3.6.6"
  }
 },
 "nbformat": 4,
 "nbformat_minor": 2
}
